{
 "cells": [
  {
   "cell_type": "code",
   "execution_count": null,
   "id": "1a1b97b6",
   "metadata": {},
   "outputs": [],
   "source": [
    "# Essential libraries for data manipulation and visualization\n",
    "import pandas as pd\n",
    "import numpy as np  # Often useful for numerical operations\n",
    "import matplotlib.pyplot as plt\n",
    "import seaborn as sns\n",
    "import plotly.express as px  # For interactive plots (optional)\n",
    "\n",
    "# Configure visualizations (optional, for aesthetics)\n",
    "sns.set_theme(style=\"whitegrid\")\n",
    "plt.rcParams['figure.figsize'] = (10, 6)  # Default figure size for matplotlib\n",
    "\n",
    "print(\"Libraries imported successfully!\")"
   ]
  },
  {
   "cell_type": "markdown",
   "id": "78133139",
   "metadata": {},
   "source": [
    "## 2. Load Dataset\n",
    "Here, we load the chosen dataset into a pandas DataFrame and perform an initial inspection.\n"
   ]
  },
  {
   "cell_type": "code",
   "execution_count": null,
   "id": "fb62aad8",
   "metadata": {},
   "outputs": [],
   "source": [
    "# Load your dataset\n",
    "# Replace 'your_dataset.csv' with the actual path or URL to your dataset\n",
    "try:\n",
    "    df = pd.read_csv('your_dataset.csv')  # TODO: Replace with your dataset path/URL\n",
    "    print(\"Dataset loaded successfully!\")\n",
    "except FileNotFoundError:\n",
    "    print(\"Error: Dataset file not found. Please check the path.\")\n",
    "    # Create a dummy DataFrame for demonstration if the file is not found\n",
    "    data = {\n",
    "        'country': ['USA', 'China', 'India', 'Germany', 'USA', 'China', 'India', 'Germany'],\n",
    "        'year': [2019, 2019, 2019, 2019, 2020, 2020, 2020, 2020],\n",
    "        'co2_emissions': [5000, 10000, 2500, 800, 4800, 10200, 2600, 750],\n",
    "        'population': [328, 1433, 1366, 83, 331, 1439, 1380, 83],\n",
    "        'gdp_per_capita': [65000, 10000, 2100, 46000, 63000, 10500, 2000, 45000]\n",
    "    }\n",
    "    df = pd.DataFrame(data)\n",
    "    print(\"Loaded a dummy dataset for demonstration.\")\n",
    "\n",
    "print(\"\\nFirst 5 rows of the dataset:\")\n",
    "print(df.head())\n",
    "\n",
    "print(\"\\nDataset Info:\")\n",
    "df.info()\n",
    "\n",
    "print(\"\\nDescriptive Statistics:\")\n",
    "print(df.describe())"
   ]
  },
  {
   "cell_type": "markdown",
   "id": "8675af66",
   "metadata": {},
   "source": [
    "## 3. Data Cleaning (Brief)\n",
    "This section covers essential data cleaning steps, such as handling missing values, correcting data types, or removing duplicates if necessary.\n"
   ]
  },
  {
   "cell_type": "code",
   "execution_count": null,
   "id": "4c8631bd",
   "metadata": {},
   "outputs": [],
   "source": [
    "print(\"\\nMissing values per column:\")\n",
    "print(df.isnull().sum())\n",
    "\n",
    "# Uncomment and adapt the following lines if needed:\n",
    "# for col in df.select_dtypes(include=np.number).columns:\n",
    "#     if df[col].isnull().any():\n",
    "#         df[col].fillna(df[col].mean(), inplace=True)\n",
    "\n",
    "# for col in df.select_dtypes(include='object').columns:\n",
    "#     if df[col].isnull().any():\n",
    "#         df[col].fillna(df[col].mode()[0], inplace=True)\n",
    "\n",
    "# df.dropna(subset=['critical_column_name'], inplace=True)\n",
    "# df.drop_duplicates(inplace=True)\n",
    "\n",
    "print(\"\\nData after initial cleaning (if any steps were applied):\")\n",
    "print(df.head())\n",
    "df.info()"
   ]
  },
  {
   "cell_type": "markdown",
   "id": "592e0d4f",
   "metadata": {},
   "source": [
    "## 4. Formulate Questions or Hypotheses\n",
    "\n",
    "1. **Question 1:** How have CO2 emissions changed over time for the top 5 emitting countries in the most recent year available?\n",
    "2. **Question 2:** Is there a correlation between GDP per capita and CO2 emissions per capita for countries in a specific year?\n",
    "3. **Question 3:** What is the distribution of CO2 emissions among different countries for the latest available year?\n"
   ]
  },
  {
   "cell_type": "markdown",
   "id": "f3f5d6dc",
   "metadata": {},
   "source": [
    "### 5.1 Answering Question 1\n"
   ]
  },
  {
   "cell_type": "code",
   "execution_count": null,
   "id": "b940e861",
   "metadata": {},
   "outputs": [],
   "source": [
    "if 'country' in df.columns and 'year' in df.columns and 'co2_emissions' in df.columns:\n",
    "    countries_q1 = ['USA', 'China']\n",
    "    df_q1 = df[df['country'].isin(countries_q1) & (df['year'] >= 2019)]\n",
    "\n",
    "    if not df_q1.empty:\n",
    "        plt.figure(figsize=(12, 7))\n",
    "        sns.lineplot(data=df_q1, x='year', y='co2_emissions', hue='country', marker='o')\n",
    "        plt.title('CO2 Emissions Over Time for USA and China (Example)')\n",
    "        plt.xlabel('Year')\n",
    "        plt.ylabel('CO2 Emissions (Example Units)')\n",
    "        plt.legend(title='Country')\n",
    "        plt.show()\n"
   ]
  },
  {
   "cell_type": "markdown",
   "id": "1c30448e",
   "metadata": {},
   "source": [
    "### 5.2 Answering Question 2\n"
   ]
  },
  {
   "cell_type": "code",
   "execution_count": null,
   "id": "fb77b181",
   "metadata": {},
   "outputs": [],
   "source": [
    "if 'year' in df.columns and 'gdp_per_capita' in df.columns and 'co2_emissions' in df.columns:\n",
    "    df_q2 = df[df['year'] == 2020].copy()\n",
    "    if not df_q2.empty and 'population' in df_q2.columns:\n",
    "        df_q2['co2_emissions_per_capita'] = df_q2['co2_emissions'] / df_q2['population']\n",
    "        df_q2.replace([np.inf, -np.inf], np.nan, inplace=True)\n",
    "        df_q2.dropna(subset=['co2_emissions_per_capita', 'gdp_per_capita'], inplace=True)\n",
    "\n",
    "        if not df_q2.empty:\n",
    "            plt.figure(figsize=(12, 7))\n",
    "            sns.scatterplot(data=df_q2, x='gdp_per_capita', y='co2_emissions_per_capita',\n",
    "                            hue='country', size='population', sizes=(50, 500), alpha=0.7)\n",
    "            plt.title('GDP per Capita vs. CO2 Emissions per Capita in 2020 (Example)')\n",
    "            plt.xlabel('GDP per Capita')\n",
    "            plt.ylabel('CO2 Emissions per Capita')\n",
    "            plt.xscale('log')\n",
    "            plt.yscale('log')\n",
    "            plt.legend(title='Country', bbox_to_anchor=(1.05, 1), loc='upper left')\n",
    "            plt.tight_layout()\n",
    "            plt.show()\n"
   ]
  },
  {
   "cell_type": "markdown",
   "id": "031ebbc8",
   "metadata": {},
   "source": [
    "### 5.3 Answering Question 3\n"
   ]
  },
  {
   "cell_type": "code",
   "execution_count": null,
   "id": "459cbae5",
   "metadata": {},
   "outputs": [],
   "source": [
    "if 'year' in df.columns and 'country' in df.columns and 'co2_emissions' in df.columns:\n",
    "    df_q3_latest_year = df[df['year'] == df['year'].max()]\n",
    "    df_q3_top_emitters = df_q3_latest_year.nlargest(10, 'co2_emissions')\n",
    "\n",
    "    if not df_q3_top_emitters.empty:\n",
    "        plt.figure(figsize=(14, 8))\n",
    "        sns.barplot(data=df_q3_top_emitters, x='co2_emissions', y='country', palette='viridis')\n",
    "        plt.title(f'Top 10 CO2 Emitting Countries in {df[\"year\"].max()} (Example)')\n",
    "        plt.xlabel('CO2 Emissions')\n",
    "        plt.ylabel('Country')\n",
    "        plt.tight_layout()\n",
    "        plt.show()\n"
   ]
  },
  {
   "cell_type": "markdown",
   "id": "577a89b6",
   "metadata": {},
   "source": [
    "## 6. Inference or Conclusion\n",
    "\n",
    "- **Q1 Summary:** CO2 emissions trends vary by country.\n",
    "- **Q2 Summary:** Positive correlation between GDP per capita and CO2 emissions per capita.\n",
    "- **Q3 Summary:** Emissions concentrated in a few top countries.\n",
    "\n",
    "**Insights:** Economic development often increases emissions, though patterns vary.\n",
    "\n",
    "**Limitations:** Dummy dataset, simplified assumptions.\n"
   ]
  }
 ],
 "metadata": {},
 "nbformat": 4,
 "nbformat_minor": 5
}